{
 "cells": [
  {
   "cell_type": "code",
   "execution_count": 5,
   "metadata": {},
   "outputs": [],
   "source": [
    "import torch\n",
    "from torchtext import data\n",
    "from torchtext import datasets\n",
    "import random\n",
    "from utils import epoch_time, count_parameters, categorical_accuracy\n",
    "\n",
    "SEED = 1234\n",
    "\n",
    "torch.manual_seed(SEED)\n",
    "torch.backends.cudnn.deterministic = True\n",
    "\n",
    "TEXT = data.Field(tokenize = 'spacy', include_lengths = True)\n",
    "LABEL = data.LabelField(dtype = torch.long)"
   ]
  },
  {
   "cell_type": "code",
   "execution_count": 6,
   "metadata": {},
   "outputs": [],
   "source": [
    "fields = [('text', TEXT), ('label', LABEL)]\n",
    "\n",
    "train_data, test_data = data.TabularDataset.splits(\n",
    "                                        path = 'data',\n",
    "                                        train = 'trial.tsv',\n",
    "                                        test = 'test.tsv',\n",
    "                                        format = 'tsv',\n",
    "                                        fields = fields,\n",
    "                                        skip_header = True\n",
    ")\n",
    "train_data, valid_data = train_data.split(random_state = random.seed(SEED))"
   ]
  },
  {
   "cell_type": "code",
   "execution_count": 7,
   "metadata": {},
   "outputs": [
    {
     "data": {
      "text/plain": [
       "{'text': ['Rest',\n",
       "  'from',\n",
       "  'your',\n",
       "  'worries',\n",
       "  'found',\n",
       "  'here',\n",
       "  '.',\n",
       "  '|',\n",
       "  ':',\n",
       "  '@user',\n",
       "  '#',\n",
       "  'tnstateparks',\n",
       "  '@',\n",
       "  'Radnor',\n",
       "  'Lake',\n",
       "  'Natural',\n",
       "  '…'],\n",
       " 'label': '10'}"
      ]
     },
     "execution_count": 7,
     "metadata": {},
     "output_type": "execute_result"
    }
   ],
   "source": [
    "vars(train_data[-1])"
   ]
  },
  {
   "cell_type": "code",
   "execution_count": 8,
   "metadata": {},
   "outputs": [],
   "source": [
    "MAX_VOCAB_SIZE = 25_000\n",
    "\n",
    "TEXT.build_vocab(train_data, \n",
    "                 max_size = MAX_VOCAB_SIZE, \n",
    "                 vectors = \"glove.6B.100d\", \n",
    "                 unk_init = torch.Tensor.normal_)\n",
    "\n",
    "LABEL.build_vocab(train_data)"
   ]
  },
  {
   "cell_type": "code",
   "execution_count": 9,
   "metadata": {},
   "outputs": [],
   "source": [
    "BATCH_SIZE = 64\n",
    "\n",
    "device = torch.device('cuda' if torch.cuda.is_available() else 'cpu')\n",
    "\n",
    "train_iterator, valid_iterator, test_iterator = data.BucketIterator.splits(\n",
    "    (train_data, valid_data, test_data), \n",
    "    sort_key=lambda x: len(x.text),\n",
    "    batch_size = BATCH_SIZE, \n",
    "    sort_within_batch = True,\n",
    "    device = device)"
   ]
  },
  {
   "cell_type": "code",
   "execution_count": 10,
   "metadata": {},
   "outputs": [],
   "source": [
    "import torch.nn as nn\n",
    "\n",
    "class RNN(nn.Module):\n",
    "    def __init__(self, vocab_size, embedding_dim, hidden_dim, output_dim, n_layers, \n",
    "                 bidirectional, dropout, pad_idx):\n",
    "        \n",
    "        super().__init__()\n",
    "        \n",
    "        self.embedding = nn.Embedding(vocab_size, embedding_dim, padding_idx = pad_idx)\n",
    "        \n",
    "        self.rnn = nn.LSTM(embedding_dim, \n",
    "                           hidden_dim, \n",
    "                           num_layers=n_layers, \n",
    "                           bidirectional=bidirectional, \n",
    "                           dropout=dropout)\n",
    "        \n",
    "        self.fc = nn.Linear(hidden_dim * 2, output_dim)\n",
    "        \n",
    "        self.dropout = nn.Dropout(dropout)\n",
    "        \n",
    "    def forward(self, text, text_lengths):\n",
    "        \n",
    "        #text = [sent len, batch size]\n",
    "        \n",
    "        embedded = self.dropout(self.embedding(text))\n",
    "        \n",
    "        #embedded = [sent len, batch size, emb dim]\n",
    "        \n",
    "        #pack sequence\n",
    "        packed_embedded = nn.utils.rnn.pack_padded_sequence(embedded, text_lengths)\n",
    "        \n",
    "        packed_output, (hidden, cell) = self.rnn(packed_embedded)\n",
    "        \n",
    "        #unpack sequence\n",
    "        output, output_lengths = nn.utils.rnn.pad_packed_sequence(packed_output)\n",
    "\n",
    "        #output = [sent len, batch size, hid dim * num directions]\n",
    "        #output over padding tokens are zero tensors\n",
    "        \n",
    "        #hidden = [num layers * num directions, batch size, hid dim]\n",
    "        #cell = [num layers * num directions, batch size, hid dim]\n",
    "        \n",
    "        #concat the final forward (hidden[-2,:,:]) and backward (hidden[-1,:,:]) hidden layers\n",
    "        #and apply dropout\n",
    "        \n",
    "        hidden = self.dropout(torch.cat((hidden[-2,:,:], hidden[-1,:,:]), dim = 1))\n",
    "                \n",
    "        #hidden = [batch size, hid dim * num directions]\n",
    "            \n",
    "        return self.fc(hidden.squeeze(0))"
   ]
  },
  {
   "cell_type": "code",
   "execution_count": 11,
   "metadata": {},
   "outputs": [],
   "source": [
    "INPUT_DIM = len(TEXT.vocab)\n",
    "EMBEDDING_DIM = 100\n",
    "HIDDEN_DIM = 256\n",
    "OUTPUT_DIM = len(LABEL.vocab)\n",
    "N_LAYERS = 2\n",
    "BIDIRECTIONAL = True\n",
    "DROPOUT = 0.5\n",
    "PAD_IDX = TEXT.vocab.stoi[TEXT.pad_token]\n",
    "\n",
    "model = RNN(INPUT_DIM, \n",
    "            EMBEDDING_DIM, \n",
    "            HIDDEN_DIM, \n",
    "            OUTPUT_DIM, \n",
    "            N_LAYERS, \n",
    "            BIDIRECTIONAL, \n",
    "            DROPOUT, \n",
    "            PAD_IDX)"
   ]
  },
  {
   "cell_type": "code",
   "execution_count": 12,
   "metadata": {},
   "outputs": [
    {
     "name": "stdout",
     "output_type": "stream",
     "text": [
      "The model has 4,820,604 trainable parameters\n"
     ]
    }
   ],
   "source": [
    "print(f'The model has {count_parameters(model):,} trainable parameters')"
   ]
  },
  {
   "cell_type": "code",
   "execution_count": 13,
   "metadata": {},
   "outputs": [
    {
     "name": "stdout",
     "output_type": "stream",
     "text": [
      "torch.Size([25002, 100])\n"
     ]
    }
   ],
   "source": [
    "pretrained_embeddings = TEXT.vocab.vectors\n",
    "\n",
    "print(pretrained_embeddings.shape)"
   ]
  },
  {
   "cell_type": "code",
   "execution_count": 14,
   "metadata": {},
   "outputs": [
    {
     "data": {
      "text/plain": [
       "tensor([[-0.1117, -0.4966,  0.1631,  ...,  1.2647, -0.2753, -0.1325],\n",
       "        [-0.8555, -0.7208,  1.3755,  ...,  0.0825, -1.1314,  0.3997],\n",
       "        [-0.6610, -0.0730,  0.9238,  ..., -0.2256,  0.8148, -0.4405],\n",
       "        ...,\n",
       "        [ 0.1128,  2.0460,  0.8266,  ...,  0.7674, -0.5384, -1.8739],\n",
       "        [ 1.7783,  1.1309,  0.0594,  ..., -0.2007, -0.7234,  0.1532],\n",
       "        [ 0.0433,  0.3691, -2.7507,  ...,  1.7293, -1.0242,  0.0297]])"
      ]
     },
     "execution_count": 14,
     "metadata": {},
     "output_type": "execute_result"
    }
   ],
   "source": [
    "model.embedding.weight.data.copy_(pretrained_embeddings)"
   ]
  },
  {
   "cell_type": "code",
   "execution_count": 15,
   "metadata": {},
   "outputs": [
    {
     "name": "stdout",
     "output_type": "stream",
     "text": [
      "tensor([[ 0.0000,  0.0000,  0.0000,  ...,  0.0000,  0.0000,  0.0000],\n",
      "        [ 0.0000,  0.0000,  0.0000,  ...,  0.0000,  0.0000,  0.0000],\n",
      "        [-0.6610, -0.0730,  0.9238,  ..., -0.2256,  0.8148, -0.4405],\n",
      "        ...,\n",
      "        [ 0.1128,  2.0460,  0.8266,  ...,  0.7674, -0.5384, -1.8739],\n",
      "        [ 1.7783,  1.1309,  0.0594,  ..., -0.2007, -0.7234,  0.1532],\n",
      "        [ 0.0433,  0.3691, -2.7507,  ...,  1.7293, -1.0242,  0.0297]])\n"
     ]
    }
   ],
   "source": [
    "UNK_IDX = TEXT.vocab.stoi[TEXT.unk_token]\n",
    "\n",
    "model.embedding.weight.data[UNK_IDX] = torch.zeros(EMBEDDING_DIM)\n",
    "model.embedding.weight.data[PAD_IDX] = torch.zeros(EMBEDDING_DIM)\n",
    "\n",
    "print(model.embedding.weight.data)"
   ]
  },
  {
   "cell_type": "markdown",
   "metadata": {},
   "source": [
    "## Train model"
   ]
  },
  {
   "cell_type": "code",
   "execution_count": null,
   "metadata": {},
   "outputs": [],
   "source": [
    "import torch.optim as optim\n",
    "\n",
    "optimizer = optim.Adam(model.parameters())\n",
    "\n",
    "criterion = nn.CrossEntropyLoss()\n",
    "\n",
    "model = model.to(device)\n",
    "criterion = criterion.to(device)"
   ]
  },
  {
   "cell_type": "code",
   "execution_count": 19,
   "metadata": {},
   "outputs": [],
   "source": [
    "def train(model, iterator, optimizer, criterion):\n",
    "    \n",
    "    epoch_loss = 0\n",
    "    epoch_acc = 0\n",
    "    \n",
    "    model.train()\n",
    "    \n",
    "    for batch in iterator:\n",
    "        \n",
    "        optimizer.zero_grad()\n",
    "        \n",
    "        text, text_lengths = batch.text\n",
    "        \n",
    "        predictions = model(text, text_lengths).squeeze(1)\n",
    "        \n",
    "        loss = criterion(predictions, batch.label)\n",
    "        \n",
    "        acc = categorical_accuracy(predictions, batch.label)\n",
    "        \n",
    "        loss.backward()\n",
    "        \n",
    "        optimizer.step()\n",
    "        \n",
    "        epoch_loss += loss.item()\n",
    "        epoch_acc += acc.item()\n",
    "        \n",
    "    return epoch_loss / len(iterator), epoch_acc / len(iterator)"
   ]
  },
  {
   "cell_type": "code",
   "execution_count": 20,
   "metadata": {},
   "outputs": [],
   "source": [
    "def evaluate(model, iterator, criterion):\n",
    "    \n",
    "    epoch_loss = 0\n",
    "    epoch_acc = 0\n",
    "    \n",
    "    model.eval()\n",
    "    \n",
    "    with torch.no_grad():\n",
    "    \n",
    "        for batch in iterator:\n",
    "\n",
    "            text, text_lengths = batch.text\n",
    "            \n",
    "            predictions = model(text, text_lengths).squeeze(1)\n",
    "            \n",
    "            loss = criterion(predictions, batch.label)\n",
    "            \n",
    "            acc = categorical_accuracy(predictions, batch.label)\n",
    "\n",
    "            epoch_loss += loss.item()\n",
    "            epoch_acc += acc.item()\n",
    "        \n",
    "    return epoch_loss / len(iterator), epoch_acc / len(iterator)"
   ]
  },
  {
   "cell_type": "code",
   "execution_count": 23,
   "metadata": {},
   "outputs": [
    {
     "name": "stdout",
     "output_type": "stream",
     "text": [
      "Epoch: 01 | Epoch Time: 0m 6s\n",
      "\tTrain Loss: 1.983 | Train Acc: 39.46%\n",
      "\t Val. Loss: 2.361 |  Val. Acc: 32.73%\n",
      "Epoch: 02 | Epoch Time: 0m 5s\n",
      "\tTrain Loss: 1.943 | Train Acc: 40.35%\n",
      "\t Val. Loss: 2.357 |  Val. Acc: 32.69%\n",
      "Epoch: 03 | Epoch Time: 0m 6s\n",
      "\tTrain Loss: 1.909 | Train Acc: 41.49%\n",
      "\t Val. Loss: 2.367 |  Val. Acc: 32.55%\n",
      "Epoch: 04 | Epoch Time: 0m 6s\n",
      "\tTrain Loss: 1.873 | Train Acc: 42.30%\n",
      "\t Val. Loss: 2.385 |  Val. Acc: 32.11%\n",
      "Epoch: 05 | Epoch Time: 0m 5s\n",
      "\tTrain Loss: 1.834 | Train Acc: 43.65%\n",
      "\t Val. Loss: 2.424 |  Val. Acc: 31.68%\n",
      "Epoch: 06 | Epoch Time: 0m 5s\n",
      "\tTrain Loss: 1.808 | Train Acc: 44.31%\n",
      "\t Val. Loss: 2.424 |  Val. Acc: 31.69%\n",
      "Epoch: 07 | Epoch Time: 0m 6s\n",
      "\tTrain Loss: 1.765 | Train Acc: 45.33%\n",
      "\t Val. Loss: 2.457 |  Val. Acc: 31.19%\n",
      "Epoch: 08 | Epoch Time: 0m 6s\n",
      "\tTrain Loss: 1.730 | Train Acc: 46.06%\n",
      "\t Val. Loss: 2.480 |  Val. Acc: 31.42%\n",
      "Epoch: 09 | Epoch Time: 0m 6s\n",
      "\tTrain Loss: 1.698 | Train Acc: 47.11%\n",
      "\t Val. Loss: 2.507 |  Val. Acc: 31.75%\n",
      "Epoch: 10 | Epoch Time: 0m 6s\n",
      "\tTrain Loss: 1.677 | Train Acc: 47.82%\n",
      "\t Val. Loss: 2.530 |  Val. Acc: 30.61%\n",
      "Epoch: 11 | Epoch Time: 0m 6s\n",
      "\tTrain Loss: 1.652 | Train Acc: 48.09%\n",
      "\t Val. Loss: 2.585 |  Val. Acc: 30.92%\n",
      "Epoch: 12 | Epoch Time: 0m 6s\n",
      "\tTrain Loss: 1.618 | Train Acc: 49.26%\n",
      "\t Val. Loss: 2.586 |  Val. Acc: 30.35%\n",
      "Epoch: 13 | Epoch Time: 0m 6s\n",
      "\tTrain Loss: 1.586 | Train Acc: 50.38%\n",
      "\t Val. Loss: 2.578 |  Val. Acc: 30.61%\n",
      "Epoch: 14 | Epoch Time: 0m 6s\n",
      "\tTrain Loss: 1.565 | Train Acc: 50.91%\n",
      "\t Val. Loss: 2.616 |  Val. Acc: 30.60%\n",
      "Epoch: 15 | Epoch Time: 0m 6s\n",
      "\tTrain Loss: 1.539 | Train Acc: 51.54%\n",
      "\t Val. Loss: 2.638 |  Val. Acc: 31.41%\n",
      "Epoch: 16 | Epoch Time: 0m 6s\n",
      "\tTrain Loss: 1.522 | Train Acc: 52.16%\n",
      "\t Val. Loss: 2.675 |  Val. Acc: 30.01%\n",
      "Epoch: 17 | Epoch Time: 0m 6s\n",
      "\tTrain Loss: 1.483 | Train Acc: 53.43%\n",
      "\t Val. Loss: 2.678 |  Val. Acc: 30.06%\n",
      "Epoch: 18 | Epoch Time: 0m 6s\n",
      "\tTrain Loss: 1.459 | Train Acc: 53.87%\n",
      "\t Val. Loss: 2.673 |  Val. Acc: 30.10%\n",
      "Epoch: 19 | Epoch Time: 0m 6s\n",
      "\tTrain Loss: 1.435 | Train Acc: 54.78%\n",
      "\t Val. Loss: 2.765 |  Val. Acc: 29.10%\n",
      "Epoch: 20 | Epoch Time: 0m 7s\n",
      "\tTrain Loss: 1.412 | Train Acc: 55.57%\n",
      "\t Val. Loss: 2.793 |  Val. Acc: 29.36%\n",
      "Epoch: 21 | Epoch Time: 0m 6s\n",
      "\tTrain Loss: 1.395 | Train Acc: 56.17%\n",
      "\t Val. Loss: 2.778 |  Val. Acc: 30.36%\n",
      "Epoch: 22 | Epoch Time: 0m 6s\n",
      "\tTrain Loss: 1.370 | Train Acc: 56.59%\n",
      "\t Val. Loss: 2.845 |  Val. Acc: 29.33%\n",
      "Epoch: 23 | Epoch Time: 0m 6s\n",
      "\tTrain Loss: 1.337 | Train Acc: 57.66%\n",
      "\t Val. Loss: 2.903 |  Val. Acc: 29.72%\n",
      "Epoch: 24 | Epoch Time: 0m 6s\n",
      "\tTrain Loss: 1.334 | Train Acc: 57.84%\n",
      "\t Val. Loss: 2.883 |  Val. Acc: 29.32%\n",
      "Epoch: 25 | Epoch Time: 0m 6s\n",
      "\tTrain Loss: 1.303 | Train Acc: 58.81%\n",
      "\t Val. Loss: 2.922 |  Val. Acc: 29.13%\n",
      "Epoch: 26 | Epoch Time: 0m 6s\n",
      "\tTrain Loss: 1.288 | Train Acc: 59.27%\n",
      "\t Val. Loss: 2.952 |  Val. Acc: 28.62%\n",
      "Epoch: 27 | Epoch Time: 0m 6s\n",
      "\tTrain Loss: 1.274 | Train Acc: 59.75%\n",
      "\t Val. Loss: 2.960 |  Val. Acc: 29.29%\n",
      "Epoch: 28 | Epoch Time: 0m 6s\n",
      "\tTrain Loss: 1.252 | Train Acc: 60.40%\n",
      "\t Val. Loss: 2.954 |  Val. Acc: 28.98%\n",
      "Epoch: 29 | Epoch Time: 0m 6s\n",
      "\tTrain Loss: 1.234 | Train Acc: 60.93%\n",
      "\t Val. Loss: 3.046 |  Val. Acc: 28.49%\n",
      "Epoch: 30 | Epoch Time: 0m 6s\n",
      "\tTrain Loss: 1.207 | Train Acc: 61.58%\n",
      "\t Val. Loss: 3.003 |  Val. Acc: 28.39%\n",
      "Epoch: 31 | Epoch Time: 0m 6s\n",
      "\tTrain Loss: 1.188 | Train Acc: 61.88%\n",
      "\t Val. Loss: 3.099 |  Val. Acc: 28.69%\n",
      "Epoch: 32 | Epoch Time: 0m 6s\n",
      "\tTrain Loss: 1.180 | Train Acc: 62.34%\n",
      "\t Val. Loss: 3.079 |  Val. Acc: 28.82%\n",
      "Epoch: 33 | Epoch Time: 0m 6s\n",
      "\tTrain Loss: 1.163 | Train Acc: 63.11%\n",
      "\t Val. Loss: 3.112 |  Val. Acc: 28.19%\n",
      "Epoch: 34 | Epoch Time: 0m 6s\n",
      "\tTrain Loss: 1.149 | Train Acc: 63.52%\n",
      "\t Val. Loss: 3.172 |  Val. Acc: 28.63%\n",
      "Epoch: 35 | Epoch Time: 0m 5s\n",
      "\tTrain Loss: 1.128 | Train Acc: 64.07%\n",
      "\t Val. Loss: 3.193 |  Val. Acc: 28.14%\n",
      "Epoch: 36 | Epoch Time: 0m 6s\n",
      "\tTrain Loss: 1.127 | Train Acc: 64.23%\n",
      "\t Val. Loss: 3.204 |  Val. Acc: 28.46%\n",
      "Epoch: 37 | Epoch Time: 0m 6s\n",
      "\tTrain Loss: 1.101 | Train Acc: 64.87%\n",
      "\t Val. Loss: 3.237 |  Val. Acc: 27.99%\n",
      "Epoch: 38 | Epoch Time: 0m 6s\n",
      "\tTrain Loss: 1.088 | Train Acc: 65.30%\n",
      "\t Val. Loss: 3.222 |  Val. Acc: 28.52%\n",
      "Epoch: 39 | Epoch Time: 0m 6s\n",
      "\tTrain Loss: 1.059 | Train Acc: 66.25%\n",
      "\t Val. Loss: 3.301 |  Val. Acc: 28.98%\n",
      "Epoch: 40 | Epoch Time: 0m 6s\n",
      "\tTrain Loss: 1.055 | Train Acc: 66.42%\n",
      "\t Val. Loss: 3.340 |  Val. Acc: 29.03%\n",
      "Epoch: 41 | Epoch Time: 0m 6s\n",
      "\tTrain Loss: 1.033 | Train Acc: 66.98%\n",
      "\t Val. Loss: 3.322 |  Val. Acc: 28.62%\n",
      "Epoch: 42 | Epoch Time: 0m 5s\n",
      "\tTrain Loss: 1.028 | Train Acc: 67.04%\n",
      "\t Val. Loss: 3.345 |  Val. Acc: 28.00%\n",
      "Epoch: 43 | Epoch Time: 0m 6s\n",
      "\tTrain Loss: 1.012 | Train Acc: 67.54%\n",
      "\t Val. Loss: 3.394 |  Val. Acc: 28.30%\n",
      "Epoch: 44 | Epoch Time: 0m 6s\n",
      "\tTrain Loss: 1.003 | Train Acc: 68.04%\n",
      "\t Val. Loss: 3.317 |  Val. Acc: 28.29%\n",
      "Epoch: 45 | Epoch Time: 0m 6s\n",
      "\tTrain Loss: 0.987 | Train Acc: 68.32%\n",
      "\t Val. Loss: 3.417 |  Val. Acc: 28.14%\n",
      "Epoch: 46 | Epoch Time: 0m 6s\n",
      "\tTrain Loss: 0.977 | Train Acc: 68.57%\n",
      "\t Val. Loss: 3.441 |  Val. Acc: 28.07%\n",
      "Epoch: 47 | Epoch Time: 0m 7s\n",
      "\tTrain Loss: 0.961 | Train Acc: 69.28%\n",
      "\t Val. Loss: 3.425 |  Val. Acc: 28.62%\n",
      "Epoch: 48 | Epoch Time: 0m 7s\n",
      "\tTrain Loss: 0.946 | Train Acc: 69.89%\n",
      "\t Val. Loss: 3.463 |  Val. Acc: 27.46%\n",
      "Epoch: 49 | Epoch Time: 0m 6s\n",
      "\tTrain Loss: 0.941 | Train Acc: 69.77%\n",
      "\t Val. Loss: 3.517 |  Val. Acc: 26.84%\n",
      "Epoch: 50 | Epoch Time: 0m 5s\n",
      "\tTrain Loss: 0.930 | Train Acc: 70.35%\n",
      "\t Val. Loss: 3.512 |  Val. Acc: 27.31%\n"
     ]
    }
   ],
   "source": [
    "N_EPOCHS = 50\n",
    "\n",
    "best_valid_loss = float('inf')\n",
    "\n",
    "for epoch in range(N_EPOCHS):\n",
    "\n",
    "    start_time = time.time()\n",
    "    \n",
    "    train_loss, train_acc = train(model, train_iterator, optimizer, criterion)\n",
    "    valid_loss, valid_acc = evaluate(model, valid_iterator, criterion)\n",
    "    \n",
    "    end_time = time.time()\n",
    "\n",
    "    epoch_mins, epoch_secs = epoch_time(start_time, end_time)\n",
    "    \n",
    "    if valid_loss < best_valid_loss:\n",
    "        best_valid_loss = valid_loss\n",
    "        torch.save(model.state_dict(), 'tut2-model.pt')\n",
    "    \n",
    "    print(f'Epoch: {epoch+1:02} | Epoch Time: {epoch_mins}m {epoch_secs}s')\n",
    "    print(f'\\tTrain Loss: {train_loss:.3f} | Train Acc: {train_acc*100:.2f}%')\n",
    "    print(f'\\t Val. Loss: {valid_loss:.3f} |  Val. Acc: {valid_acc*100:.2f}%')"
   ]
  },
  {
   "cell_type": "code",
   "execution_count": null,
   "metadata": {},
   "outputs": [],
   "source": []
  },
  {
   "cell_type": "code",
   "execution_count": null,
   "metadata": {},
   "outputs": [],
   "source": []
  }
 ],
 "metadata": {
  "kernelspec": {
   "display_name": "Python 3",
   "language": "python",
   "name": "python3"
  },
  "language_info": {
   "codemirror_mode": {
    "name": "ipython",
    "version": 3
   },
   "file_extension": ".py",
   "mimetype": "text/x-python",
   "name": "python",
   "nbconvert_exporter": "python",
   "pygments_lexer": "ipython3",
   "version": "3.6.7"
  }
 },
 "nbformat": 4,
 "nbformat_minor": 2
}
