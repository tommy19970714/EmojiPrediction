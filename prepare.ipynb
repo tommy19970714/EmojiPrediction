{
 "cells": [
  {
   "cell_type": "markdown",
   "metadata": {},
   "source": [
    "## データセット読み込み"
   ]
  },
  {
   "cell_type": "code",
   "execution_count": null,
   "metadata": {},
   "outputs": [],
   "source": [
    "import sys\n",
    "import os\n",
    "\n",
    "PATH_TRIAL = \"./Semeval2018-Task2-EmojiPrediction/trial\"\n",
    "PATH_TEST = \"./Semeval2018-Task2-EmojiPrediction/test\"\n",
    "TRAIN_TEXT_FILE = os.path.join(PATH_TRIAL, \"us_trial.text\")\n",
    "TRAIN_LABELS_FILE = os.path.join(PATH_TRIAL, \"us_trial.labels\")\n",
    "TEST_TEXT_FILE = os.path.join(PATH_TEST, \"us_test.text\")\n",
    "TEST_LABELS_FILE = os.path.join(PATH_TEST, \"us_test.labels\")"
   ]
  },
  {
   "cell_type": "code",
   "execution_count": 2,
   "metadata": {},
   "outputs": [],
   "source": [
    "train_text = open(TRAIN_TEXT_FILE, \"r\")\n",
    "train_labels = open(TRAIN_LABELS_FILE, \"r\")"
   ]
  },
  {
   "cell_type": "code",
   "execution_count": 3,
   "metadata": {},
   "outputs": [],
   "source": [
    "test_text = open(TEST_TEXT_FILE, \"r\")\n",
    "test_labels = open(TEST_LABELS_FILE, \"r\")"
   ]
  },
  {
   "cell_type": "markdown",
   "metadata": {},
   "source": [
    "## tsv形式で出力"
   ]
  },
  {
   "cell_type": "markdown",
   "metadata": {},
   "source": [
    "Before you run next code, you should make \"./data/\" folder in this current directory."
   ]
  },
  {
   "cell_type": "code",
   "execution_count": 4,
   "metadata": {},
   "outputs": [],
   "source": [
    "import csv\n",
    "with open('./data/trial.tsv', 'w') as f:\n",
    "    writer = csv.writer(f, delimiter='\\t')\n",
    "    writer.writerow([\"text\", \"label\"])\n",
    "    for text, label in zip(train_text, train_labels):\n",
    "#         if int(label) <= 5:\n",
    "        writer.writerow([text, label])"
   ]
  },
  {
   "cell_type": "code",
   "execution_count": 5,
   "metadata": {},
   "outputs": [],
   "source": [
    "with open('./data/test.tsv', 'w') as f:\n",
    "    writer = csv.writer(f, delimiter='\\t')\n",
    "    writer.writerow([\"text\", \"label\"])\n",
    "    for text, label in zip(test_text, test_labels):\n",
    "#         if int(label) <= 5:\n",
    "        writer.writerow([text, label])"
   ]
  }
 ],
 "metadata": {
  "kernelspec": {
   "display_name": "Python 3",
   "language": "python",
   "name": "python3"
  },
  "language_info": {
   "codemirror_mode": {
    "name": "ipython",
    "version": 3
   },
   "file_extension": ".py",
   "mimetype": "text/x-python",
   "name": "python",
   "nbconvert_exporter": "python",
   "pygments_lexer": "ipython3",
   "version": "3.6.7"
  }
 },
 "nbformat": 4,
 "nbformat_minor": 2
}
